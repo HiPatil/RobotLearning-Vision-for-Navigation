{
 "cells": [
  {
   "cell_type": "code",
   "execution_count": null,
   "metadata": {},
   "outputs": [],
   "source": [
    "import carla\n",
    "import random\n",
    "import math\n",
    "import time\n",
    "import numpy as np\n",
    "import cv2\n",
    "import matplotlib.pyplot as plt\n",
    "from IPython import display\n",
    "\n",
    "from lane_detection import LaneDetection\n",
    "from lateral_control import LateralController\n",
    "from waypoint_prediction import waypoint_prediction, target_speed_prediction\n",
    "from longitudinal_control import LongitudinalController"
   ]
  },
  {
   "cell_type": "code",
   "execution_count": null,
   "metadata": {},
   "outputs": [],
   "source": [
    "client = carla.Client('localhost', 2000)\n",
    "client.set_timeout(10.0)\n",
    "# world = client.get_world()\n",
    "world = client.load_world('Town03')\n",
    "\n",
    "\n",
    "weather = carla.WeatherParameters(\n",
    "    cloudiness=80.0,\n",
    "    precipitation=30.0,\n",
    "    sun_altitude_angle=170.0)\n",
    "\n",
    "world.set_weather(weather)\n",
    "\n",
    "blueprint_library = world.get_blueprint_library()\n",
    "spawn_points = world.get_map().get_spawn_points()\n",
    "\n",
    "vehicle_bp = blueprint_library.find('vehicle.tesla.model3')\n",
    "vehicle = world.try_spawn_actor(vehicle_bp, random.choice(spawn_points))\n",
    "\n",
    "spectator = world.get_spectator()\n",
    "print(vehicle.get_transform().rotation.pitch)\n",
    "transform = carla.Transform(vehicle.get_transform().transform(carla.Location(x=-8, y=0, z=20), ), carla.Rotation(pitch=-45.000000, yaw=vehicle.get_transform().rotation.yaw, roll=0.000000))\n",
    "spectator.set_transform(transform)"
   ]
  },
  {
   "cell_type": "code",
   "execution_count": null,
   "metadata": {},
   "outputs": [],
   "source": [
    "# for i in range(30):\n",
    "#     vehicle_bp = random.choice(blueprint_library.filter('vehicle.*'))\n",
    "#     npc = world.try_spawn_actor(vehicle_bp, random.choice(spawn_points))\n",
    "\n",
    "# for v in world.get_actors().filter('vehicle.*'):\n",
    "#     v.set_autopilot(True)"
   ]
  },
  {
   "cell_type": "code",
   "execution_count": null,
   "metadata": {},
   "outputs": [],
   "source": [
    "def process_image(image, vehicle, spectator, LD_module, LatC_module, LongC_module, fig):\n",
    "    transform = carla.Transform(vehicle.get_transform().transform(carla.Location(x=-5.5, y=0, z=2.5), ), carla.Rotation(pitch=8.0, yaw=vehicle.get_transform().rotation.yaw, roll=0.000000))\n",
    "    spectator.set_transform(transform)\n",
    "    \n",
    "    i = np.array(image.raw_data)\n",
    "    i2 = i.reshape((image.height, image.width, 4))\n",
    "    i3 = i2[:, :, :3]\n",
    "    \n",
    "    bev = LD_module.front2bev(i3)\n",
    "    lane1, lane2 = LD_module.lane_detection(bev)\n",
    "    waypoints = waypoint_prediction(lane1, lane2, way_type='center')\n",
    "    target_speed = target_speed_prediction(waypoints)\n",
    "    \n",
    "    plt.ion()\n",
    "    plt.show()\n",
    "    LD_module.plot_state_lane(bev, fig, waypoints=waypoints)\n",
    "    display.clear_output(wait=True)\n",
    "    \n",
    "    velocity = vehicle.get_velocity()\n",
    "    speed = np.hypot(velocity.x, velocity.y)\n",
    "\n",
    "    steering = LatC_module.stanley(waypoints, speed)\n",
    "    throttle, brake = LongC_module.control(speed, target_speed)\n",
    "\n",
    "\n",
    "    control = carla.VehicleControl()\n",
    "\n",
    "    control.steer = steering\n",
    "    control.throttle = throttle\n",
    "    control.brake = brake\n",
    "    vehicle.apply_control(control)"
   ]
  },
  {
   "cell_type": "code",
   "execution_count": null,
   "metadata": {
    "scrolled": true
   },
   "outputs": [],
   "source": [
    "camera_bp = blueprint_library.find('sensor.camera.rgb')\n",
    "camera_bp.set_attribute('image_size_x', '480')\n",
    "camera_bp.set_attribute('image_size_y', '270')\n",
    "camera_bp.set_attribute('fov', '64')\n",
    "camera_init_trans = carla.Transform(carla.Location(x=-5.5, z=2.5), carla.Rotation(pitch=8.0))\n",
    "camera = world.spawn_actor(camera_bp, camera_init_trans, attach_to=vehicle, attachment_type=carla.AttachmentType.SpringArm)\n",
    "\n",
    "fig = plt.figure()\n",
    "\n",
    "LD_module = LaneDetection()\n",
    "LatC_module = LateralController()\n",
    "LongC_module = LongitudinalController()\n",
    "\n",
    "camera.listen(lambda image: process_image(image, vehicle, spectator, LD_module, LatC_module, LongC_module, fig))"
   ]
  },
  {
   "cell_type": "code",
   "execution_count": null,
   "metadata": {},
   "outputs": [],
   "source": [
    "camera.stop()"
   ]
  }
 ],
 "metadata": {
  "kernelspec": {
   "display_name": "Python 3 (ipykernel)",
   "language": "python",
   "name": "python3"
  },
  "language_info": {
   "codemirror_mode": {
    "name": "ipython",
    "version": 3
   },
   "file_extension": ".py",
   "mimetype": "text/x-python",
   "name": "python",
   "nbconvert_exporter": "python",
   "pygments_lexer": "ipython3",
   "version": "3.7.16"
  }
 },
 "nbformat": 4,
 "nbformat_minor": 2
}
