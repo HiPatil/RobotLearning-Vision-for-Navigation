{
 "cells": [
  {
   "cell_type": "code",
   "execution_count": 1,
   "metadata": {},
   "outputs": [],
   "source": [
    "import carla\n",
    "import random\n",
    "import math\n",
    "import time\n",
    "import numpy as np\n",
    "import cv2\n",
    "from lane_detection import LaneDetection\n",
    "from lateral_control import LateralController\n",
    "from waypoint_prediction import waypoint_prediction, target_speed_prediction\n",
    "\n"
   ]
  },
  {
   "cell_type": "code",
   "execution_count": 2,
   "metadata": {},
   "outputs": [],
   "source": [
    "client = carla.Client('localhost', 2000)\n",
    "client.set_timeout(10.0)\n",
    "world = client.get_world()\n",
    "\n",
    "weather = carla.WeatherParameters(\n",
    "    cloudiness=80.0,\n",
    "    precipitation=30.0,\n",
    "    sun_altitude_angle=90.0)\n",
    "\n",
    "world.set_weather(weather)"
   ]
  },
  {
   "cell_type": "code",
   "execution_count": 3,
   "metadata": {},
   "outputs": [],
   "source": [
    "blueprint_library = world.get_blueprint_library()\n",
    "spawn_points = world.get_map().get_spawn_points()"
   ]
  },
  {
   "cell_type": "code",
   "execution_count": 8,
   "metadata": {},
   "outputs": [],
   "source": [
    "vehicle_bp = blueprint_library.find('vehicle.tesla.model3')\n",
    "vehicle = world.try_spawn_actor(vehicle_bp, random.choice(spawn_points))"
   ]
  },
  {
   "cell_type": "code",
   "execution_count": 9,
   "metadata": {},
   "outputs": [
    {
     "name": "stdout",
     "output_type": "stream",
     "text": [
      "0.0\n"
     ]
    }
   ],
   "source": [
    "spectator = world.get_spectator()\n",
    "print(vehicle.get_transform().rotation.pitch)\n",
    "transform = carla.Transform(vehicle.get_transform().transform(carla.Location(x=-8, y=0, z=20), ), carla.Rotation(pitch=-45.000000, yaw=vehicle.get_transform().rotation.yaw, roll=0.000000))\n",
    "spectator.set_transform(transform)"
   ]
  },
  {
   "cell_type": "code",
   "execution_count": 10,
   "metadata": {},
   "outputs": [],
   "source": [
    "# for i in range(30):\n",
    "#     vehicle_bp = random.choice(blueprint_library.filter('vehicle.*'))\n",
    "#     npc = world.try_spawn_actor(vehicle_bp, random.choice(spawn_points))"
   ]
  },
  {
   "cell_type": "code",
   "execution_count": 11,
   "metadata": {},
   "outputs": [],
   "source": [
    "# for v in world.get_actors().filter('vehicle.*'):\n",
    "#     v.set_autopilot(True)"
   ]
  },
  {
   "cell_type": "code",
   "execution_count": 12,
   "metadata": {},
   "outputs": [],
   "source": [
    "def process_image(image, vehicle, LD_module, LatC_module):\n",
    "    i = np.array(image.raw_data)\n",
    "    i2 = i.reshape((image.height, image.width, 4))\n",
    "    i3 = i2[:, :, :3]\n",
    "#     cv2.imwrite('output/%06d.jpg' % image.frame, i3)\n",
    "#     start = time.time()\n",
    "    bev = LD_module.front2bev(i3)\n",
    "#     cv2.imwrite('bev/%06d.jpg' % image.frame, bev)\n",
    "\n",
    "    bev = cv2.resize(bev, (96, 96))\n",
    "    lane1, lane2 = LD_module.lane_detection(bev)\n",
    "    waypoints = waypoint_prediction(lane1, lane2, way_type='center')\n",
    "    target_speed = target_speed_prediction(waypoints)\n",
    "    steering = LatC_module.stanley(waypoints, target_speed)\n",
    "\n",
    "    control = carla.VehicleControl()\n",
    "    \n",
    "    control.steer = steering\n",
    "    control.throttle = 0.2\n",
    "    vehicle.apply_control(control)\n",
    "    \n",
    "#     print('Time Taken: ',time.time()-start)\n",
    "#     cv2.imwrite('bev/%06d.jpg' % image.frame, bev)\n"
   ]
  },
  {
   "cell_type": "code",
   "execution_count": 13,
   "metadata": {
    "scrolled": false
   },
   "outputs": [
    {
     "name": "stderr",
     "output_type": "stream",
     "text": [
      "/home/himanshu/ADCIL-Sim2Real/lane_detection.py:227: VisibleDeprecationWarning: Creating an ndarray from ragged nested sequences (which is a list-or-tuple of lists-or-tuples-or ndarrays with different lengths or shapes) is deprecated. If you meant to do this, you must specify 'dtype=object' when creating the ndarray.\n",
      "  argmaxima = np.array(argmaxima)\n"
     ]
    }
   ],
   "source": [
    "camera_bp = blueprint_library.find('sensor.camera.rgb')\n",
    "camera_bp.set_attribute('image_size_x', '480')\n",
    "camera_bp.set_attribute('image_size_y', '270')\n",
    "camera_bp.set_attribute('fov', '64')\n",
    "camera_init_trans = carla.Transform(carla.Location(x=-5.5, z=2.5), carla.Rotation(pitch=8.0))\n",
    "camera = world.spawn_actor(camera_bp, camera_init_trans, attach_to=vehicle, attachment_type=carla.AttachmentType.SpringArm)\n",
    "\n",
    "\n",
    "LD_module = LaneDetection()\n",
    "LatC_module = LateralController()\n",
    "\n",
    "camera.listen(lambda image: process_image(image, vehicle, LD_module, LatC_module))"
   ]
  },
  {
   "cell_type": "code",
   "execution_count": null,
   "metadata": {},
   "outputs": [],
   "source": [
    "camera.stop()"
   ]
  },
  {
   "cell_type": "code",
   "execution_count": null,
   "metadata": {},
   "outputs": [],
   "source": []
  }
 ],
 "metadata": {
  "kernelspec": {
   "display_name": "Python 3 (ipykernel)",
   "language": "python",
   "name": "python3"
  },
  "language_info": {
   "codemirror_mode": {
    "name": "ipython",
    "version": 3
   },
   "file_extension": ".py",
   "mimetype": "text/x-python",
   "name": "python",
   "nbconvert_exporter": "python",
   "pygments_lexer": "ipython3",
   "version": "3.7.16"
  }
 },
 "nbformat": 4,
 "nbformat_minor": 2
}
